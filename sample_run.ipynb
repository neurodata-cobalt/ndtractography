{
 "cells": [
  {
   "cell_type": "code",
   "execution_count": null,
   "metadata": {
    "scrolled": false
   },
   "outputs": [],
   "source": [
    "from cobalt_tractography.bossHandler import *\n",
    "from cobalt_tractography.tractography import *\n",
    "import numpy as np\n",
    "from skimage import img_as_uint"
   ]
  },
  {
   "cell_type": "code",
   "execution_count": null,
   "metadata": {},
   "outputs": [],
   "source": [
    "# Parameters:\n",
    "coll_name = 'ailey-dev'\n",
    "exp_name = 'DRN-BLA_2378'\n",
    "chan_name = 'Ch0'\n",
    "x_rng = [9250, 9750]\n",
    "y_rng = [18000, 18500]\n",
    "z_rng = [500, 600]\n",
    "test_lbl = '4'\n",
    "\n",
    "# Using bossHandler class to download from Boss:\n",
    "bHandler = bossHandler(coll_name)\n",
    "bHandler.select_experiment(exp_name)\n",
    "exp = bHandler.get_experiment()\n",
    "bHandler.select_channel(chan_name)\n",
    "data_cutout_raw = bHandler.get_cutout(x_rng, y_rng, z_rng)\n",
    "# bHandler.get_coordinate_frame()\n",
    "# data_cutout_raw = bHandler.get_all()\n",
    "data_cutout_raw = np.transpose(img_as_uint(data_cutout_raw),(1,2,0))"
   ]
  },
  {
   "cell_type": "code",
   "execution_count": null,
   "metadata": {},
   "outputs": [],
   "source": [
    "th = tractoHandler(data_cutout_raw)\n",
    "skeleton, concomp, concomp_col, data_cutout_binarized =th.run_tractography(1)"
   ]
  },
  {
   "cell_type": "markdown",
   "metadata": {},
   "source": [
    "## Visualize (animated)\n",
    "Visualize as an animation iterating through z slices"
   ]
  },
  {
   "cell_type": "code",
   "execution_count": null,
   "metadata": {
    "scrolled": true
   },
   "outputs": [],
   "source": [
    "# Visualize the output (animation)\n",
    "from IPython.display import HTML\n",
    "\n",
    "anim = videoviz(data_cutout_raw, skeleton)\n",
    "HTML(anim.to_jshtml())\n"
   ]
  },
  {
   "cell_type": "code",
   "execution_count": null,
   "metadata": {},
   "outputs": [],
   "source": [
    "\n",
    "# Helper functions for ingestation (C: vikram)\n",
    "def get_channel_resource(rmt, chan_name, coll_name, exp_name, type='image', base_resolution=0, sources=[], datatype='uint16', new_channel=True):\n",
    "    channel_resource = ChannelResource(chan_name, coll_name, exp_name, type=type, \n",
    "                                    base_resolution=base_resolution, sources=sources, datatype=datatype)\n",
    "    if new_channel: \n",
    "\n",
    "        new_rsc = rmt.create_project(channel_resource)\n",
    "        return new_rsc\n",
    "\n",
    "    return channel_resource\n",
    "\n",
    "\n",
    "def upload_to_boss(rmt, data, channel_resource, x_rng, y_rng, z_rng,resolution=0):\n",
    "    Z_LOC = 0\n",
    "    size = data.shape\n",
    "    for i in range(0, data.shape[Z_LOC], 16):\n",
    "        last_z = i+16\n",
    "        if last_z > data.shape[Z_LOC]:\n",
    "            last_z = data.shape[Z_LOC]\n",
    "        print(resolution, x_rng, y_rng, [z_rng[0]+i, z_rng[0]+last_z])\n",
    "        rmt.create_cutout(channel_resource, resolution, [x_rng[0],x_rng[1]], [y_rng[0],y_rng[1]], [z_rng[0]+ i, z_rng[0] + last_z], np.asarray(data[i:last_z,:,:], order='C'))\n",
    "\n",
    "\n",
    "        \n",
    "x_rng = [9250, 9750]\n",
    "y_rng = [18000, 18500]\n",
    "z_rng = [500, 600]\n",
    "        \n",
    "\n",
    "# Ingest the results back to Boss\n",
    "rmt = BossRemote()\n",
    "new_coll_name = 'tractography'\n",
    "new_exp_name = 'DRN-BLA_2378'\n",
    "new_chan_name = 'Ch0'\n",
    "create_new_channel = False\n",
    "\n",
    "if create_new_channel:\n",
    "    # new channel\n",
    "    new_chan_resource = get_channel_resource(rmt, new_chan_name, new_coll_name, new_exp_name , new_channel=True)\n",
    "    upload_to_boss(rmt, np.transpose(skeleton , (2,0,1)), new_chan_resource)\n",
    "\n",
    "else:\n",
    "    # get existing channel\n",
    "    chan_resource = rmt.get_channel(chan_name= new_chan_name, coll_name=new_coll_name, exp_name=new_exp_name)\n",
    "    upload_to_boss(rmt, np.transpose(skeleton , (2,0,1)), chan_resource, x_rng, y_rng, z_rng)\n",
    "\n",
    "\n"
   ]
  },
  {
   "cell_type": "markdown",
   "metadata": {},
   "source": [
    "## Quantitative plot\n",
    "For each machine labeled voxel find the closest manually labeled and calculate the physical distance\n"
   ]
  },
  {
   "cell_type": "code",
   "execution_count": null,
   "metadata": {},
   "outputs": [],
   "source": [
    "labeled_0_nz_voxel_ids = np.genfromtxt('./doc/tractography_'+test_lbl+'.swc' , delimiter=' ')\n",
    "plot_quantification('./doc/tractography_'+test_lbl+'.swc',skeleton, 0.585, 0.585, 5.0)\n"
   ]
  },
  {
   "cell_type": "markdown",
   "metadata": {},
   "source": [
    "## Save results as swc"
   ]
  },
  {
   "cell_type": "code",
   "execution_count": null,
   "metadata": {},
   "outputs": [],
   "source": [
    "import os\n",
    "if not os.path.exists('output'):\n",
    "    os.makedirs('output')"
   ]
  },
  {
   "cell_type": "code",
   "execution_count": null,
   "metadata": {
    "scrolled": true
   },
   "outputs": [],
   "source": [
    "# swcFileName = '../output_data/test_tractography/CSV_outputs/test_4_output_nosubs.swc'\n",
    "swcFileName = 'output/test_4_output_nosubs.swc'\n",
    "\n",
    "unique_vals = np.unique(concomp)\n",
    "\n",
    "clust_ids = np.empty((unique_vals.shape[0]-1))\n",
    "outputmat = np.empty(((0,3)))\n",
    "for i,cluster in enumerate(unique_vals[1:]):\n",
    "        curr_clust = np.asarray(np.where( concomp == cluster )).T\n",
    "        clust_ids[i] = curr_clust.shape[0]\n",
    "        outputmat = np.append(outputmat , curr_clust, axis=0)\n",
    "\n",
    "\n",
    "clust_ids = np.append([0] , np.cumsum(clust_ids)[:-1])\n",
    "\n",
    "first_col = np.arange(1, outputmat.shape[0]+1).reshape(outputmat.shape[0],1)\n",
    "second_col = 3*np.ones((outputmat.shape[0],1))\n",
    "outputmat = np.append(second_col,outputmat, axis=1)\n",
    "outputmat = np.append(first_col,outputmat, axis=1)\n",
    "\n",
    "second_to_last_col = np.ones((outputmat.shape[0],1))\n",
    "outputmat = np.append(outputmat, second_to_last_col, axis=1)\n",
    "last_col = np.arange(outputmat.shape[0]).reshape(outputmat.shape[0],1)\n",
    "last_col[np.uint16(clust_ids)] = -1\n",
    "outputmat = np.append(outputmat, last_col ,axis=1)\n",
    "\n",
    "np.savetxt(swcFileName, outputmat, fmt='%i')"
   ]
  },
  {
   "cell_type": "markdown",
   "metadata": {},
   "source": [
    "## Ingest to Boss\n",
    "Upload the results back to Boss\n"
   ]
  },
  {
   "cell_type": "code",
   "execution_count": null,
   "metadata": {},
   "outputs": [],
   "source": [
    "\n",
    "# Helper functions for ingestation (C: vikram)\n",
    "def get_channel_resource(rmt, chan_name, coll_name, exp_name, type='image', base_resolution=0, sources=[], datatype='uint16', new_channel=True):\n",
    "    channel_resource = ChannelResource(chan_name, coll_name, exp_name, type=type, \n",
    "                                    base_resolution=base_resolution, sources=sources, datatype=datatype)\n",
    "    if new_channel: \n",
    "\n",
    "        new_rsc = rmt.create_project(channel_resource)\n",
    "        return new_rsc\n",
    "\n",
    "    return channel_resource\n",
    "\n",
    "\n",
    "\n",
    "def upload_to_boss(rmt, data, channel_resource, resolution=0):\n",
    "    Z_LOC = 0\n",
    "    size = data.shape\n",
    "    for i in range(0, data.shape[Z_LOC], 16):\n",
    "        last_z = i+16\n",
    "        if last_z > data.shape[Z_LOC]:\n",
    "            last_z = data.shape[Z_LOC]\n",
    "        print(resolution, [0, size[2]], [0, size[1]], [i, last_z])\n",
    "        rmt.create_cutout(channel_resource, resolution, [0, size[2]], [0, size[1]], [i, last_z], np.asarray(data[i:last_z,:,:], order='C'))\n",
    "        \n",
    "        \n",
    "# Ingest the results back to Boss\n",
    "rmt = BossRemote()\n",
    "new_coll_name = 'tractography'\n",
    "new_exp_name = 'mvpsprint3'\n",
    "new_chan_name = 'annot_4'\n",
    "create_new_channel = False\n",
    "\n",
    "if create_new_channel:\n",
    "    # new channel\n",
    "    new_chan_resource = get_channel_resource(rmt, new_chan_name, new_coll_name, new_exp_name , new_channel=True)\n",
    "    upload_to_boss(rmt, concomp, new_chan_resource)\n",
    "    \n",
    "else:\n",
    "    # get existing channel\n",
    "    chan_resource = rmt.get_channel(chan_name= new_chan_name, coll_name=new_coll_name, exp_name=new_exp_name)\n",
    "    upload_to_boss(rmt, concomp, chan_resource)\n"
   ]
  },
  {
   "cell_type": "markdown",
   "metadata": {},
   "source": [
    "# Simulation and Metrics"
   ]
  },
  {
   "cell_type": "code",
   "execution_count": null,
   "metadata": {},
   "outputs": [],
   "source": [
    "import tifffile as tiff\n",
    "\n",
    "from cobalt_tractography import tractogen\n",
    "from cobalt_tractography import tractometrics"
   ]
  },
  {
   "cell_type": "markdown",
   "metadata": {},
   "source": [
    "## Generating simulated tracts and plotting on tif"
   ]
  },
  {
   "cell_type": "code",
   "execution_count": null,
   "metadata": {},
   "outputs": [],
   "source": [
    "sim_file_name = 'demo.tif'\n",
    "# [z, y, x]\n",
    "pts1 = tractogen.gen_points([47, 350, 240], num_segs=75, seg_len=20)\n",
    "pts2 = tractogen.gen_points([78, 300, 400], num_segs=50, seg_len=20)\n",
    "pts3 = tractogen.gen_points([10, 130, 120], num_segs=50, seg_len=20)\n",
    "curves = [pts1, pts2, pts3]\n",
    "arr = tractogen.plot_curves_on_tif(curves, sim_file_name, shape=[100, 500, 500], return_array=True)"
   ]
  },
  {
   "cell_type": "markdown",
   "metadata": {},
   "source": [
    "## Reading in simulated data"
   ]
  },
  {
   "cell_type": "code",
   "execution_count": null,
   "metadata": {},
   "outputs": [],
   "source": [
    "data_cutout_raw = tiff.imread(sim_file_name)\n",
    "data_cutout_raw = np.transpose(img_as_uint(data_cutout_raw),(1,2,0))\n",
    "print(data_cutout_raw.shape)"
   ]
  },
  {
   "cell_type": "markdown",
   "metadata": {},
   "source": [
    "## Running Tractography Algorithm"
   ]
  },
  {
   "cell_type": "code",
   "execution_count": null,
   "metadata": {},
   "outputs": [],
   "source": [
    "th = tractoHandler(data_cutout_raw)\n",
    "skeleton, concomp, concomp_col, data_cutout_binarized =th.run_tractography(1)"
   ]
  },
  {
   "cell_type": "markdown",
   "metadata": {},
   "source": [
    "## Visualize (animated)\n",
    "Visualize as an animation iterating through z slices"
   ]
  },
  {
   "cell_type": "code",
   "execution_count": null,
   "metadata": {},
   "outputs": [],
   "source": [
    "# Visualize the output (animation)\n",
    "\n",
    "from matplotlib import animation\n",
    "from IPython.display import HTML\n",
    "\n",
    "z_rng = [0 , data_cutout_raw.shape[2]]\n",
    "# z_rng = [70,80]\n",
    "fig, (im1, im2) = plt.subplots(1, 2)\n",
    "\n",
    "# fig.set_facecolor('black')\n",
    "ax1 = im1.imshow(data_cutout_raw[:,:,0], animated=True)\n",
    "ax2 = im2.imshow(data_cutout_binarized[:,:,0], animated=True)\n",
    "\n",
    "im1.get_xaxis().set_visible(False)\n",
    "im2.get_xaxis().set_visible(False)\n",
    "\n",
    "im1.get_yaxis().set_visible(False)\n",
    "im2.get_yaxis().set_visible(False)\n",
    "\n",
    "im1.set_title('Raw data')\n",
    "im2.set_title('Weights')\n",
    "\n",
    "def animate(i):\n",
    "    ax1.set_data(data_cutout_raw[:,:,i])\n",
    "    im1.set_title('Raw data; Z= ' + str(i))\n",
    "#     ax1.set_cmap('gray')\n",
    "    ax1.autoscale()\n",
    "    \n",
    "    ax2.set_data(data_cutout_binarized[:,:,i])\n",
    "    im2.set_title('Weights; Z=' + str(i))\n",
    "#     ax2.set_cmap('gray')\n",
    "    ax2.autoscale()\n",
    "    return ax1\n",
    "\n",
    "anim = animation.FuncAnimation(fig, animate, frames = np.arange(z_rng[0],z_rng[1]), interval = 50)\n",
    "HTML(anim.to_jshtml())\n"
   ]
  },
  {
   "cell_type": "markdown",
   "metadata": {},
   "source": [
    "## Save results as swc\n"
   ]
  },
  {
   "cell_type": "code",
   "execution_count": null,
   "metadata": {},
   "outputs": [],
   "source": [
    "swcFileName = 'demo_prediction.swc'\n",
    "\n",
    "unique_vals = np.unique(concomp)\n",
    "\n",
    "clust_ids = np.empty((unique_vals.shape[0]-1))\n",
    "outputmat = np.empty(((0,3)))\n",
    "for i,cluster in enumerate(unique_vals[1:]):\n",
    "        curr_clust = np.asarray(np.where( concomp == cluster )).T\n",
    "        clust_ids[i] = curr_clust.shape[0]\n",
    "        outputmat = np.append(outputmat , curr_clust, axis=0)\n",
    "\n",
    "\n",
    "clust_ids = np.append([0] , np.cumsum(clust_ids)[:-1])\n",
    "\n",
    "first_col = np.arange(1, outputmat.shape[0]+1).reshape(outputmat.shape[0],1)\n",
    "second_col = 3*np.ones((outputmat.shape[0],1))\n",
    "outputmat = np.append(second_col,outputmat, axis=1)\n",
    "outputmat = np.append(first_col,outputmat, axis=1)\n",
    "\n",
    "second_to_last_col = np.ones((outputmat.shape[0],1))\n",
    "outputmat = np.append(outputmat, second_to_last_col, axis=1)\n",
    "last_col = np.arange(outputmat.shape[0]).reshape(outputmat.shape[0],1)\n",
    "last_col[np.uint16(clust_ids)] = -1\n",
    "outputmat = np.append(outputmat, last_col ,axis=1)\n",
    "\n",
    "np.savetxt(swcFileName , outputmat, fmt='%i')"
   ]
  },
  {
   "cell_type": "code",
   "execution_count": null,
   "metadata": {},
   "outputs": [],
   "source": [
    "pred_curves = tractogen.swc_to_curves('demo_prediction.swc')\n",
    "gt_curves = curves"
   ]
  },
  {
   "cell_type": "markdown",
   "metadata": {},
   "source": [
    "## Metrics"
   ]
  },
  {
   "cell_type": "code",
   "execution_count": null,
   "metadata": {},
   "outputs": [],
   "source": [
    "pred_fv = tractometrics.compute_feature_vector(pred_curves, show_histogram=True)"
   ]
  },
  {
   "cell_type": "code",
   "execution_count": null,
   "metadata": {},
   "outputs": [],
   "source": [
    "gt_fv = tractometrics.compute_feature_vector(gt_curves, show_histogram=True)"
   ]
  },
  {
   "cell_type": "code",
   "execution_count": null,
   "metadata": {},
   "outputs": [],
   "source": []
  }
 ],
 "metadata": {
  "kernelspec": {
   "display_name": "Python 2",
   "language": "python",
   "name": "python2"
  },
  "language_info": {
   "codemirror_mode": {
    "name": "ipython",
    "version": 2
   },
   "file_extension": ".py",
   "mimetype": "text/x-python",
   "name": "python",
   "nbconvert_exporter": "python",
   "pygments_lexer": "ipython2",
   "version": "2.7.12"
  }
 },
 "nbformat": 4,
 "nbformat_minor": 2
}
